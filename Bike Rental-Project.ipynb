{
 "cells": [
  {
   "cell_type": "code",
   "execution_count": null,
   "metadata": {
    "scrolled": true
   },
   "outputs": [
    {
     "name": "stderr",
     "output_type": "stream",
     "text": [
      "Using TensorFlow backend.\n"
     ]
    }
   ],
   "source": [
    "#Load libraries\n",
    "import os\n",
    "import pandas as pd\n",
    "import numpy as np\n",
    "from fancyimpute import KNN   \n",
    "import matplotlib.pyplot as plt\n",
    "from scipy.stats import chi2_contingency\n",
    "import seaborn as sns\n",
    "from random import randrange, uniform"
   ]
  },
  {
   "cell_type": "code",
   "execution_count": 2,
   "metadata": {},
   "outputs": [],
   "source": [
    "# Set current working directory\n",
    "os.chdir(\"C:/Users/Chaitrali/Downloads/Data/data01s2l1/Edwisor-Project/CabfarePred\")"
   ]
  },
  {
   "cell_type": "code",
   "execution_count": 44,
   "metadata": {},
   "outputs": [],
   "source": [
    "#Read the input csv file\n",
    "rental=pd.read_csv('day.csv', header = 0 ).iloc[:,1:16]"
   ]
  },
  {
   "cell_type": "code",
   "execution_count": 5,
   "metadata": {},
   "outputs": [
    {
     "name": "stdout",
     "output_type": "stream",
     "text": [
      "dteday        category\n",
      "season        category\n",
      "yr            category\n",
      "mnth          category\n",
      "holiday       category\n",
      "weekday       category\n",
      "workingday    category\n",
      "weathersit    category\n",
      "temp           float64\n",
      "atemp          float64\n",
      "hum            float64\n",
      "windspeed      float64\n",
      "casual           int64\n",
      "registered       int64\n",
      "cnt              int64\n",
      "dtype: object\n"
     ]
    }
   ],
   "source": [
    "#concert the required variavles to category\n",
    "convert_dic={'dteday' : 'category','season': 'category','mnth': 'category','yr': 'category','holiday': 'category', 'weekday': 'category', 'workingday': 'category', 'weathersit': 'category'}\n",
    "rental=rental.astype(convert_dic)"
   ]
  },
  {
   "cell_type": "code",
   "execution_count": 15,
   "metadata": {},
   "outputs": [],
   "source": [
    "# Missing Value Analysis\n",
    "#Create dataframe with missing percentage\n",
    "missing_val = pd.DataFrame(train.isnull().sum())\n",
    "\n",
    "#Reset index\n",
    "missing_val = missing_val.reset_index()\n",
    "\n",
    "#Rename variable\n",
    "missing_val = missing_val.rename(columns = {'index': 'Variables', 0: 'Missing_percentage'})\n",
    "\n",
    "#Calculate percentage\n",
    "missing_val['Missing_percentage'] = (missing_val['Missing_percentage']/16000*100)\n",
    "\n",
    "#descending order\n",
    "missing_val = missing_val.sort_values('Missing_percentage', ascending = False).reset_index(drop = True)\n",
    "# missing_val\n",
    "#save output results \n",
    "# missing_val.to_csv(\"Miising_perc.csv\", inex = False)"
   ]
  },
  {
   "cell_type": "markdown",
   "metadata": {},
   "source": [
    "# Outlier Analysis"
   ]
  },
  {
   "cell_type": "code",
   "execution_count": 6,
   "metadata": {},
   "outputs": [],
   "source": [
    "#save it in another name, incase we need it again\n",
    "df = rental.copy()\n",
    "rental = df.copy()\n"
   ]
  },
  {
   "cell_type": "code",
   "execution_count": 7,
   "metadata": {},
   "outputs": [
    {
     "data": {
      "text/plain": [
       "{'whiskers': [<matplotlib.lines.Line2D at 0xc0060764a8>,\n",
       "  <matplotlib.lines.Line2D at 0xc0060768d0>],\n",
       " 'caps': [<matplotlib.lines.Line2D at 0xc006076cf8>,\n",
       "  <matplotlib.lines.Line2D at 0xc006076dd8>],\n",
       " 'boxes': [<matplotlib.lines.Line2D at 0xc006066ef0>],\n",
       " 'medians': [<matplotlib.lines.Line2D at 0xc006082588>],\n",
       " 'fliers': [<matplotlib.lines.Line2D at 0xc0060829b0>],\n",
       " 'means': []}"
      ]
     },
     "execution_count": 7,
     "metadata": {},
     "output_type": "execute_result"
    },
    {
     "data": {
      "image/png": "[encoded data removed]",
      "text/plain": [
       "<Figure size 432x288 with 1 Axes>"
      ]
     },
     "metadata": {
      "needs_background": "light"
     },
     "output_type": "display_data"
    }
   ],
   "source": [
    "# #Plot boxplot to visualize Outliers\n",
    "%matplotlib inline  \n",
    "plt.boxplot(rental['windspeed'])\n"
   ]
  },
  {
   "cell_type": "code",
   "execution_count": 8,
   "metadata": {},
   "outputs": [],
   "source": [
    "#save numeric names\n",
    "coutliers = [ 'hum', 'windspeed']\n",
    "for list in coutliers:\n",
    "    #Detect and replace with NA\n",
    "    # #Extract quartiles\n",
    "    q75, q25 = np.percentile(rental[list], [75 ,25])\n",
    "\n",
    "    #Calculate IQR\n",
    "    iqr = q75 - q25\n",
    "   \n",
    "    # #Calculate inner and outer fence\n",
    "    minimum = q25 - (iqr*1.5)\n",
    "    maximum = q75 + (iqr*1.5)\n",
    "\n",
    "    # #Replace with NA\n",
    "    rental.loc[rental[list] < minimum,list] = np.nan\n",
    "    rental.loc[rental[list] > maximum,list] = np.nan\n",
    "\n",
    "    # #Calculate missing value\n",
    "    missing_val = pd.DataFrame(rental.isnull().sum())\n",
    "    missing_val"
   ]
  },
  {
   "cell_type": "code",
   "execution_count": 10,
   "metadata": {},
   "outputs": [],
   "source": [
    "#Impute with mean\n",
    "rental['windspeed'] = rental['windspeed'].fillna(rental['windspeed'].mean())"
   ]
  },
  {
   "cell_type": "code",
   "execution_count": 11,
   "metadata": {},
   "outputs": [],
   "source": [
    "#Impute with mean\n",
    "rental['hum'] = rental['hum'].fillna(rental['hum'].mean())"
   ]
  },
  {
   "cell_type": "markdown",
   "metadata": {},
   "source": [
    "## Feature Selection "
   ]
  },
  {
   "cell_type": "code",
   "execution_count": 52,
   "metadata": {},
   "outputs": [],
   "source": [
    "##Correlation analysis\n",
    "#Correlation plot\n",
    "numeric=['temp', 'atemp', 'hum', 'windspeed' ,'casual','registered', 'cnt']\n",
    "df_corr = rental.loc[:,numeric]\n"
   ]
  },
  {
   "cell_type": "code",
   "execution_count": 53,
   "metadata": {},
   "outputs": [
    {
     "name": "stdout",
     "output_type": "stream",
     "text": [
      "                temp     atemp       hum  windspeed    casual  registered  \\\n",
      "temp        1.000000  0.991702  0.123703  -0.140000  0.543285    0.540012   \n",
      "atemp       0.991702  1.000000  0.137293  -0.165315  0.543864    0.544192   \n",
      "hum         0.123703  0.137293  1.000000  -0.201894 -0.087800   -0.112238   \n",
      "windspeed  -0.140000 -0.165315 -0.201894   1.000000 -0.146933   -0.204112   \n",
      "casual      0.543285  0.543864 -0.087800  -0.146933  1.000000    0.395282   \n",
      "registered  0.540012  0.544192 -0.112238  -0.204112  0.395282    1.000000   \n",
      "cnt         0.627494  0.631066 -0.121518  -0.216473  0.672804    0.945517   \n",
      "\n",
      "                 cnt  \n",
      "temp        0.627494  \n",
      "atemp       0.631066  \n",
      "hum        -0.121518  \n",
      "windspeed  -0.216473  \n",
      "casual      0.672804  \n",
      "registered  0.945517  \n",
      "cnt         1.000000  \n"
     ]
    },
    {
     "data": {
      "text/plain": [
       "<matplotlib.axes._subplots.AxesSubplot at 0xf57d2ebc88>"
      ]
     },
     "execution_count": 53,
     "metadata": {},
     "output_type": "execute_result"
    },
    {
     "data": {
      "image/png": "[encoded data removed]",
      "text/plain": [
       "<Figure size 504x360 with 2 Axes>"
      ]
     },
     "metadata": {
      "needs_background": "light"
     },
     "output_type": "display_data"
    }
   ],
   "source": [
    "#Set the width and hieght of the plot\n",
    "f, ax = plt.subplots(figsize=(7, 5))\n",
    "\n",
    "#Generate correlation matrix\n",
    "corr = df_corr.corr()\n",
    "print(corr)\n",
    "#Plot using seaborn library\n",
    "sns.heatmap(corr, mask=np.zeros_like(corr, dtype=np.bool), cmap=sns.diverging_palette(220, 10, as_cmap=True),\n",
    "            square=True, ax=ax)"
   ]
  },
  {
   "cell_type": "code",
   "execution_count": 54,
   "metadata": {},
   "outputs": [],
   "source": [
    "#Chisquare test of independence\n",
    "#Save categorical variables\n",
    "cat_names = ['season', 'mnth','yr', 'holiday', 'weekday', 'workingday',\n",
    "       'weathersit', 'dteday']"
   ]
  },
  {
   "cell_type": "code",
   "execution_count": 57,
   "metadata": {},
   "outputs": [
    {
     "name": "stdout",
     "output_type": "stream",
     "text": [
      "season\n",
      "season\n",
      "0.0\n",
      "season\n",
      "mnth\n",
      "0.0\n",
      "season\n",
      "yr\n",
      "0.9999288084245916\n",
      "season\n",
      "holiday\n",
      "0.6831687073042005\n",
      "season\n",
      "weekday\n",
      "0.9999999999988407\n",
      "season\n",
      "workingday\n",
      "0.8865568364019545\n",
      "season\n",
      "weathersit\n",
      "0.02117930104473366\n",
      "season\n",
      "dteday\n",
      "0.47791725528737083\n",
      "mnth\n",
      "season\n",
      "0.0\n",
      "mnth\n",
      "mnth\n",
      "0.0\n",
      "mnth\n",
      "yr\n",
      "0.9999999999999892\n",
      "mnth\n",
      "holiday\n",
      "0.5593083086035064\n",
      "mnth\n",
      "weekday\n",
      "1.0\n",
      "mnth\n",
      "workingday\n",
      "0.9933495217919545\n",
      "mnth\n",
      "weathersit\n",
      "0.014637111771019196\n",
      "mnth\n",
      "dteday\n",
      "0.4633408861792731\n",
      "yr\n",
      "season\n",
      "0.9999288084245916\n",
      "yr\n",
      "mnth\n",
      "0.9999999999999892\n",
      "yr\n",
      "yr\n",
      "4.0118539920135064e-160\n",
      "yr\n",
      "holiday\n",
      "0.9949247279855291\n",
      "yr\n",
      "weekday\n",
      "0.9999995848511959\n",
      "yr\n",
      "workingday\n",
      "0.9799434134248637\n",
      "yr\n",
      "weathersit\n",
      "0.12737941480418666\n",
      "yr\n",
      "dteday\n",
      "0.4826092829158382\n",
      "holiday\n",
      "season\n",
      "0.6831687073042003\n",
      "holiday\n",
      "mnth\n",
      "0.5593083086035064\n",
      "holiday\n",
      "yr\n",
      "0.9949247279855291\n",
      "holiday\n",
      "holiday\n",
      "2.70694538395451e-153\n",
      "holiday\n",
      "weekday\n",
      "8.567055344615637e-11\n",
      "holiday\n",
      "workingday\n",
      "4.033370935452143e-11\n",
      "holiday\n",
      "weathersit\n",
      "0.6008572213448835\n",
      "holiday\n",
      "dteday\n",
      "0.48260928291583943\n",
      "weekday\n",
      "season\n",
      "0.9999999999988407\n",
      "weekday\n",
      "mnth\n",
      "1.0\n",
      "weekday\n",
      "yr\n",
      "0.9999995848511959\n",
      "weekday\n",
      "holiday\n",
      "8.567055344615667e-11\n",
      "weekday\n",
      "weekday\n",
      "0.0\n",
      "weekday\n",
      "workingday\n",
      "6.775030505809736e-136\n",
      "weekday\n",
      "weathersit\n",
      "0.27845933074505175\n",
      "weekday\n",
      "dteday\n",
      "0.47161969238066503\n",
      "workingday\n",
      "season\n",
      "0.8865568364019545\n",
      "workingday\n",
      "mnth\n",
      "0.9933495217919545\n",
      "workingday\n",
      "yr\n",
      "0.9799434134248637\n",
      "workingday\n",
      "holiday\n",
      "4.033370935452143e-11\n",
      "workingday\n",
      "weekday\n",
      "6.775030505809736e-136\n",
      "workingday\n",
      "workingday\n",
      "5.484935161027171e-160\n",
      "workingday\n",
      "weathersit\n",
      "0.2537639982644043\n",
      "workingday\n",
      "dteday\n",
      "0.48260928291583943\n",
      "weathersit\n",
      "season\n",
      "0.021179301044733697\n",
      "weathersit\n",
      "mnth\n",
      "0.014637111771019196\n",
      "weathersit\n",
      "yr\n",
      "0.12737941480418666\n",
      "weathersit\n",
      "holiday\n",
      "0.6008572213448835\n",
      "weathersit\n",
      "weekday\n",
      "0.2784593307450517\n",
      "weathersit\n",
      "workingday\n",
      "0.2537639982644043\n",
      "weathersit\n",
      "weathersit\n",
      "0.0\n",
      "weathersit\n",
      "dteday\n",
      "0.480327760399677\n",
      "dteday\n",
      "season\n",
      "0.47791725528737083\n",
      "dteday\n",
      "mnth\n",
      "0.46334088617927593\n",
      "dteday\n",
      "yr\n",
      "0.4826092829158382\n",
      "dteday\n",
      "holiday\n",
      "0.4826092829158382\n",
      "dteday\n",
      "weekday\n",
      "0.47161969238066503\n",
      "dteday\n",
      "workingday\n",
      "0.4826092829158406\n",
      "dteday\n",
      "weathersit\n",
      "0.48032776039967534\n",
      "dteday\n",
      "dteday\n",
      "0.23964969770275232\n"
     ]
    }
   ],
   "source": [
    "for i in cat_names:\n",
    "    \n",
    "    for k in cat_names:\n",
    "        print(i)\n",
    "        print(k)\n",
    "        chi2, p, dof, ex = chi2_contingency(pd.crosstab(rental[k] , rental[i]))\n",
    "        print(p)"
   ]
  },
  {
   "cell_type": "code",
   "execution_count": 14,
   "metadata": {},
   "outputs": [],
   "source": [
    "# Drop the variables not needed for analysis\n",
    "rental_train=rental.drop([ 'dteday','casual', 'registered'], axis=1)"
   ]
  },
  {
   "cell_type": "markdown",
   "metadata": {},
   "source": [
    "# Model Development"
   ]
  },
  {
   "cell_type": "markdown",
   "metadata": {},
   "source": [
    "# Decision Tree"
   ]
  },
  {
   "cell_type": "code",
   "execution_count": 15,
   "metadata": {},
   "outputs": [
    {
     "name": "stderr",
     "output_type": "stream",
     "text": [
      "C:\\Users\\Chaitrali\\Anaconda3\\lib\\site-packages\\sklearn\\cross_validation.py:41: DeprecationWarning: This module was deprecated in version 0.18 in favor of the model_selection module into which all the refactored classes and functions are moved. Also note that the interface of the new CV iterators are different from that of this module. This module will be removed in 0.20.\n",
      "  \"This module will be removed in 0.20.\", DeprecationWarning)\n"
     ]
    }
   ],
   "source": [
    "#Load libraries\n",
    "from sklearn.cross_validation import train_test_split\n",
    "from sklearn.tree import DecisionTreeRegressor"
   ]
  },
  {
   "cell_type": "code",
   "execution_count": 115,
   "metadata": {},
   "outputs": [],
   "source": [
    "# Divide the data into train and test\n",
    "# train, test = train_test_split(rental_train, test_size=0.2)\n",
    "# Already loaded"
   ]
  },
  {
   "cell_type": "code",
   "execution_count": 45,
   "metadata": {},
   "outputs": [],
   "source": [
    "# Decision tree for regression\n",
    "fit_DT = DecisionTreeRegressor(max_depth=2).fit(train.iloc[:, 0:11], train.iloc[:,11])"
   ]
  },
  {
   "cell_type": "code",
   "execution_count": 17,
   "metadata": {},
   "outputs": [],
   "source": [
    "#Apply model on test data\n",
    "predictions_DT = fit_DT.predict(test.iloc[:,0:11])\n"
   ]
  },
  {
   "cell_type": "code",
   "execution_count": 18,
   "metadata": {},
   "outputs": [],
   "source": [
    "#Calculate MAPE\n",
    "def MAPE(y_true, y_pred): \n",
    "    mape = np.mean(np.abs((y_true - y_pred) / y_true))*100\n",
    "    return mape"
   ]
  },
  {
   "cell_type": "code",
   "execution_count": 46,
   "metadata": {},
   "outputs": [
    {
     "data": {
      "text/plain": [
       "29.755859069814615"
      ]
     },
     "execution_count": 46,
     "metadata": {},
     "output_type": "execute_result"
    }
   ],
   "source": [
    "MAPE(test.iloc[:,11], predictions_DT)\n"
   ]
  },
  {
   "cell_type": "code",
   "execution_count": null,
   "metadata": {},
   "outputs": [],
   "source": [
    "#Error 29.75\n",
    "#Accuracy 70.25"
   ]
  },
  {
   "cell_type": "markdown",
   "metadata": {},
   "source": [
    "# Random Forest"
   ]
  },
  {
   "cell_type": "code",
   "execution_count": 20,
   "metadata": {},
   "outputs": [
    {
     "name": "stderr",
     "output_type": "stream",
     "text": [
      "C:\\Users\\Chaitrali\\Anaconda3\\lib\\site-packages\\sklearn\\ensemble\\weight_boosting.py:29: DeprecationWarning: numpy.core.umath_tests is an internal NumPy module and should not be imported. It will be removed in a future NumPy release.\n",
      "  from numpy.core.umath_tests import inner1d\n"
     ]
    }
   ],
   "source": [
    "#Random Forest\n",
    "from sklearn.ensemble import RandomForestClassifier\n",
    "\n"
   ]
  },
  {
   "cell_type": "code",
   "execution_count": 21,
   "metadata": {},
   "outputs": [],
   "source": [
    "RF_model = RandomForestClassifier(n_estimators = 30).fit(train.iloc[:, 0:11], train.iloc[:,11])\n",
    "\n"
   ]
  },
  {
   "cell_type": "code",
   "execution_count": 22,
   "metadata": {},
   "outputs": [],
   "source": [
    "RF_Predictions = RF_model.predict(test.iloc[:, 0:11])"
   ]
  },
  {
   "cell_type": "code",
   "execution_count": 23,
   "metadata": {},
   "outputs": [
    {
     "data": {
      "text/plain": [
       "23.14477914606017"
      ]
     },
     "execution_count": 23,
     "metadata": {},
     "output_type": "execute_result"
    }
   ],
   "source": [
    "MAPE(test.iloc[:,11], RF_Predictions)"
   ]
  },
  {
   "cell_type": "code",
   "execution_count": null,
   "metadata": {},
   "outputs": [],
   "source": [
    "#error is 24.85 for n=30\n",
    "#accuracy 75.16"
   ]
  },
  {
   "cell_type": "markdown",
   "metadata": {},
   "source": [
    "# KNN Imputation"
   ]
  },
  {
   "cell_type": "code",
   "execution_count": 24,
   "metadata": {},
   "outputs": [],
   "source": [
    "#KNN implementation\n",
    "from sklearn.neighbors import KNeighborsClassifier\n",
    "\n",
    "KNN_model = KNeighborsClassifier(n_neighbors = 1).fit(train.iloc[: , 0:11], train.iloc[:, 11])\n",
    "\n"
   ]
  },
  {
   "cell_type": "code",
   "execution_count": 25,
   "metadata": {},
   "outputs": [],
   "source": [
    "#predict test cases\n",
    "KNN_Predictions = KNN_model.predict(test.iloc[: , 0:11])\n"
   ]
  },
  {
   "cell_type": "code",
   "execution_count": 26,
   "metadata": {},
   "outputs": [
    {
     "data": {
      "text/plain": [
       "22.147383244438355"
      ]
     },
     "execution_count": 26,
     "metadata": {},
     "output_type": "execute_result"
    }
   ],
   "source": [
    "MAPE(test.iloc[:,11], KNN_Predictions)"
   ]
  },
  {
   "cell_type": "code",
   "execution_count": null,
   "metadata": {},
   "outputs": [],
   "source": [
    "#error is 22.96 for K-1\n",
    "#accuracy is 77.06"
   ]
  },
  {
   "cell_type": "markdown",
   "metadata": {},
   "source": [
    "\n",
    "# Linear Regression\n"
   ]
  },
  {
   "cell_type": "code",
   "execution_count": 55,
   "metadata": {},
   "outputs": [],
   "source": [
    "#Load libraries\n",
    "import os\n",
    "import pandas as pd\n",
    "import numpy as np\n",
    "from sklearn.cross_validation import train_test_split\n"
   ]
  },
  {
   "cell_type": "code",
   "execution_count": 210,
   "metadata": {},
   "outputs": [
    {
     "data": {
      "text/html": [
       "<div>\n",
       "<style scoped>\n",
       "    .dataframe tbody tr th:only-of-type {\n",
       "        vertical-align: middle;\n",
       "    }\n",
       "\n",
       "    .dataframe tbody tr th {\n",
       "        vertical-align: top;\n",
       "    }\n",
       "\n",
       "    .dataframe thead th {\n",
       "        text-align: right;\n",
       "    }\n",
       "</style>\n",
       "<table border=\"1\" class=\"dataframe\">\n",
       "  <thead>\n",
       "    <tr style=\"text-align: right;\">\n",
       "      <th></th>\n",
       "      <th>season</th>\n",
       "      <th>yr</th>\n",
       "      <th>mnth</th>\n",
       "      <th>holiday</th>\n",
       "      <th>weekday</th>\n",
       "      <th>workingday</th>\n",
       "      <th>weathersit</th>\n",
       "      <th>temp</th>\n",
       "      <th>atemp</th>\n",
       "      <th>hum</th>\n",
       "      <th>windspeed</th>\n",
       "      <th>cnt</th>\n",
       "    </tr>\n",
       "  </thead>\n",
       "  <tbody>\n",
       "  </tbody>\n",
       "</table>\n",
       "</div>"
      ],
      "text/plain": [
       "Empty DataFrame\n",
       "Columns: [season, yr, mnth, holiday, weekday, workingday, weathersit, temp, atemp, hum, windspeed, cnt]\n",
       "Index: []"
      ]
     },
     "execution_count": 210,
     "metadata": {},
     "output_type": "execute_result"
    }
   ],
   "source": [
    "rental_train.head(0)"
   ]
  },
  {
   "cell_type": "code",
   "execution_count": 211,
   "metadata": {},
   "outputs": [],
   "source": [
    "linear = rental_train.iloc[:, 7:11]\n"
   ]
  },
  {
   "cell_type": "code",
   "execution_count": 213,
   "metadata": {},
   "outputs": [],
   "source": [
    "cat_names = ['season', 'yr', 'mnth', 'holiday', 'weekday', 'workingday','weathersit']\n",
    "for i in cat_names:\n",
    "    temp = pd.get_dummies(rental_train[i], prefix = i)\n",
    "    linear = linear.join(temp)"
   ]
  },
  {
   "cell_type": "code",
   "execution_count": 214,
   "metadata": {},
   "outputs": [],
   "source": [
    "linear= linear.join(rental_train['cnt'])"
   ]
  },
  {
   "cell_type": "code",
   "execution_count": 224,
   "metadata": {},
   "outputs": [],
   "source": [
    "#already loaded\n",
    "train1, test1 = train_test_split(linear, test_size=0.2)"
   ]
  },
  {
   "cell_type": "code",
   "execution_count": 217,
   "metadata": {},
   "outputs": [],
   "source": [
    "#Import libraries for LR\n",
    "import statsmodels.api as sm"
   ]
  },
  {
   "cell_type": "code",
   "execution_count": 228,
   "metadata": {},
   "outputs": [],
   "source": [
    "# Train the model using the training sets\n",
    "model = sm.OLS(train1.iloc[:, 36 ], train1.iloc[:, 0:36 ]).fit()"
   ]
  },
  {
   "cell_type": "code",
   "execution_count": 229,
   "metadata": {},
   "outputs": [
    {
     "data": {
      "text/html": [
       "<table class=\"simpletable\">\n",
       "<caption>OLS Regression Results</caption>\n",
       "<tr>\n",
       "  <th>Dep. Variable:</th>           <td>cnt</td>       <th>  R-squared:         </th> <td>   0.838</td> \n",
       "</tr>\n",
       "<tr>\n",
       "  <th>Model:</th>                   <td>OLS</td>       <th>  Adj. R-squared:    </th> <td>   0.829</td> \n",
       "</tr>\n",
       "<tr>\n",
       "  <th>Method:</th>             <td>Least Squares</td>  <th>  F-statistic:       </th> <td>   102.3</td> \n",
       "</tr>\n",
       "<tr>\n",
       "  <th>Date:</th>             <td>Wed, 17 Apr 2019</td> <th>  Prob (F-statistic):</th> <td>9.88e-199</td>\n",
       "</tr>\n",
       "<tr>\n",
       "  <th>Time:</th>                 <td>15:47:33</td>     <th>  Log-Likelihood:    </th> <td> -4710.2</td> \n",
       "</tr>\n",
       "<tr>\n",
       "  <th>No. Observations:</th>      <td>   584</td>      <th>  AIC:               </th> <td>   9478.</td> \n",
       "</tr>\n",
       "<tr>\n",
       "  <th>Df Residuals:</th>          <td>   555</td>      <th>  BIC:               </th> <td>   9605.</td> \n",
       "</tr>\n",
       "<tr>\n",
       "  <th>Df Model:</th>              <td>    28</td>      <th>                     </th>     <td> </td>    \n",
       "</tr>\n",
       "<tr>\n",
       "  <th>Covariance Type:</th>      <td>nonrobust</td>    <th>                     </th>     <td> </td>    \n",
       "</tr>\n",
       "</table>\n",
       "<table class=\"simpletable\">\n",
       "<tr>\n",
       "        <td></td>          <th>coef</th>     <th>std err</th>      <th>t</th>      <th>P>|t|</th>  <th>[0.025</th>    <th>0.975]</th>  \n",
       "</tr>\n",
       "<tr>\n",
       "  <th>temp</th>         <td> 2711.6209</td> <td> 1498.646</td> <td>    1.809</td> <td> 0.071</td> <td> -232.090</td> <td> 5655.332</td>\n",
       "</tr>\n",
       "<tr>\n",
       "  <th>atemp</th>        <td> 2048.2741</td> <td> 1553.545</td> <td>    1.318</td> <td> 0.188</td> <td>-1003.273</td> <td> 5099.821</td>\n",
       "</tr>\n",
       "<tr>\n",
       "  <th>hum</th>          <td>-1477.9600</td> <td>  357.652</td> <td>   -4.132</td> <td> 0.000</td> <td>-2180.477</td> <td> -775.443</td>\n",
       "</tr>\n",
       "<tr>\n",
       "  <th>windspeed</th>    <td>-2348.7184</td> <td>  515.392</td> <td>   -4.557</td> <td> 0.000</td> <td>-3361.075</td> <td>-1336.362</td>\n",
       "</tr>\n",
       "<tr>\n",
       "  <th>season_1</th>     <td> -479.3525</td> <td>  141.365</td> <td>   -3.391</td> <td> 0.001</td> <td> -757.028</td> <td> -201.677</td>\n",
       "</tr>\n",
       "<tr>\n",
       "  <th>season_2</th>     <td>  125.6893</td> <td>  145.334</td> <td>    0.865</td> <td> 0.388</td> <td> -159.783</td> <td>  411.162</td>\n",
       "</tr>\n",
       "<tr>\n",
       "  <th>season_3</th>     <td>  386.9613</td> <td>  150.098</td> <td>    2.578</td> <td> 0.010</td> <td>   92.132</td> <td>  681.790</td>\n",
       "</tr>\n",
       "<tr>\n",
       "  <th>season_4</th>     <td> 1113.9502</td> <td>  146.239</td> <td>    7.617</td> <td> 0.000</td> <td>  826.701</td> <td> 1401.200</td>\n",
       "</tr>\n",
       "<tr>\n",
       "  <th>yr_0</th>         <td> -415.7834</td> <td>   82.519</td> <td>   -5.039</td> <td> 0.000</td> <td> -577.870</td> <td> -253.697</td>\n",
       "</tr>\n",
       "<tr>\n",
       "  <th>yr_1</th>         <td> 1563.0318</td> <td>   80.648</td> <td>   19.381</td> <td> 0.000</td> <td> 1404.619</td> <td> 1721.444</td>\n",
       "</tr>\n",
       "<tr>\n",
       "  <th>mnth_1</th>       <td> -338.4498</td> <td>  206.483</td> <td>   -1.639</td> <td> 0.102</td> <td> -744.033</td> <td>   67.133</td>\n",
       "</tr>\n",
       "<tr>\n",
       "  <th>mnth_2</th>       <td> -190.4273</td> <td>  193.860</td> <td>   -0.982</td> <td> 0.326</td> <td> -571.216</td> <td>  190.361</td>\n",
       "</tr>\n",
       "<tr>\n",
       "  <th>mnth_3</th>       <td>  251.5407</td> <td>  151.781</td> <td>    1.657</td> <td> 0.098</td> <td>  -46.596</td> <td>  549.677</td>\n",
       "</tr>\n",
       "<tr>\n",
       "  <th>mnth_4</th>       <td>  402.7009</td> <td>  179.693</td> <td>    2.241</td> <td> 0.025</td> <td>   49.739</td> <td>  755.663</td>\n",
       "</tr>\n",
       "<tr>\n",
       "  <th>mnth_5</th>       <td>  721.3950</td> <td>  195.247</td> <td>    3.695</td> <td> 0.000</td> <td>  337.882</td> <td> 1104.908</td>\n",
       "</tr>\n",
       "<tr>\n",
       "  <th>mnth_6</th>       <td>  459.0443</td> <td>  187.342</td> <td>    2.450</td> <td> 0.015</td> <td>   91.058</td> <td>  827.031</td>\n",
       "</tr>\n",
       "<tr>\n",
       "  <th>mnth_7</th>       <td> -285.0334</td> <td>  214.989</td> <td>   -1.326</td> <td> 0.185</td> <td> -707.325</td> <td>  137.258</td>\n",
       "</tr>\n",
       "<tr>\n",
       "  <th>mnth_8</th>       <td>  112.7212</td> <td>  204.445</td> <td>    0.551</td> <td> 0.582</td> <td> -288.858</td> <td>  514.301</td>\n",
       "</tr>\n",
       "<tr>\n",
       "  <th>mnth_9</th>       <td>  655.8473</td> <td>  161.088</td> <td>    4.071</td> <td> 0.000</td> <td>  339.430</td> <td>  972.264</td>\n",
       "</tr>\n",
       "<tr>\n",
       "  <th>mnth_10</th>      <td>  202.9996</td> <td>  177.103</td> <td>    1.146</td> <td> 0.252</td> <td> -144.874</td> <td>  550.873</td>\n",
       "</tr>\n",
       "<tr>\n",
       "  <th>mnth_11</th>      <td> -461.3188</td> <td>  191.960</td> <td>   -2.403</td> <td> 0.017</td> <td> -838.375</td> <td>  -84.263</td>\n",
       "</tr>\n",
       "<tr>\n",
       "  <th>mnth_12</th>      <td> -383.7713</td> <td>  166.515</td> <td>   -2.305</td> <td> 0.022</td> <td> -710.847</td> <td>  -56.696</td>\n",
       "</tr>\n",
       "<tr>\n",
       "  <th>holiday_0</th>    <td>  818.6531</td> <td>  100.126</td> <td>    8.176</td> <td> 0.000</td> <td>  621.981</td> <td> 1015.325</td>\n",
       "</tr>\n",
       "<tr>\n",
       "  <th>holiday_1</th>    <td>  328.5953</td> <td>  114.912</td> <td>    2.860</td> <td> 0.004</td> <td>  102.880</td> <td>  554.311</td>\n",
       "</tr>\n",
       "<tr>\n",
       "  <th>weekday_0</th>    <td> -128.9968</td> <td>   70.348</td> <td>   -1.834</td> <td> 0.067</td> <td> -267.177</td> <td>    9.184</td>\n",
       "</tr>\n",
       "<tr>\n",
       "  <th>weekday_1</th>    <td>   60.8670</td> <td>   83.415</td> <td>    0.730</td> <td> 0.466</td> <td> -102.980</td> <td>  224.714</td>\n",
       "</tr>\n",
       "<tr>\n",
       "  <th>weekday_2</th>    <td>  180.5720</td> <td>   84.509</td> <td>    2.137</td> <td> 0.033</td> <td>   14.576</td> <td>  346.568</td>\n",
       "</tr>\n",
       "<tr>\n",
       "  <th>weekday_3</th>    <td>  234.0469</td> <td>   88.346</td> <td>    2.649</td> <td> 0.008</td> <td>   60.514</td> <td>  407.580</td>\n",
       "</tr>\n",
       "<tr>\n",
       "  <th>weekday_4</th>    <td>  154.6466</td> <td>   85.473</td> <td>    1.809</td> <td> 0.071</td> <td>  -13.244</td> <td>  322.537</td>\n",
       "</tr>\n",
       "<tr>\n",
       "  <th>weekday_5</th>    <td>  290.6338</td> <td>   83.501</td> <td>    3.481</td> <td> 0.001</td> <td>  126.616</td> <td>  454.651</td>\n",
       "</tr>\n",
       "<tr>\n",
       "  <th>weekday_6</th>    <td>  355.4789</td> <td>   69.955</td> <td>    5.082</td> <td> 0.000</td> <td>  218.071</td> <td>  492.887</td>\n",
       "</tr>\n",
       "<tr>\n",
       "  <th>workingday_0</th> <td>  555.0775</td> <td>   93.412</td> <td>    5.942</td> <td> 0.000</td> <td>  371.594</td> <td>  738.561</td>\n",
       "</tr>\n",
       "<tr>\n",
       "  <th>workingday_1</th> <td>  592.1709</td> <td>   67.852</td> <td>    8.727</td> <td> 0.000</td> <td>  458.893</td> <td>  725.449</td>\n",
       "</tr>\n",
       "<tr>\n",
       "  <th>weathersit_1</th> <td> 1284.9095</td> <td>   84.741</td> <td>   15.163</td> <td> 0.000</td> <td> 1118.458</td> <td> 1451.361</td>\n",
       "</tr>\n",
       "<tr>\n",
       "  <th>weathersit_2</th> <td>  783.2974</td> <td>   85.382</td> <td>    9.174</td> <td> 0.000</td> <td>  615.586</td> <td>  951.009</td>\n",
       "</tr>\n",
       "<tr>\n",
       "  <th>weathersit_3</th> <td> -920.9586</td> <td>  184.875</td> <td>   -4.982</td> <td> 0.000</td> <td>-1284.099</td> <td> -557.818</td>\n",
       "</tr>\n",
       "</table>\n",
       "<table class=\"simpletable\">\n",
       "<tr>\n",
       "  <th>Omnibus:</th>       <td>105.176</td> <th>  Durbin-Watson:     </th> <td>   2.054</td>\n",
       "</tr>\n",
       "<tr>\n",
       "  <th>Prob(Omnibus):</th> <td> 0.000</td>  <th>  Jarque-Bera (JB):  </th> <td> 300.227</td>\n",
       "</tr>\n",
       "<tr>\n",
       "  <th>Skew:</th>          <td>-0.876</td>  <th>  Prob(JB):          </th> <td>6.41e-66</td>\n",
       "</tr>\n",
       "<tr>\n",
       "  <th>Kurtosis:</th>      <td> 6.045</td>  <th>  Cond. No.          </th> <td>1.09e+16</td>\n",
       "</tr>\n",
       "</table><br/><br/>Warnings:<br/>[1] Standard Errors assume that the covariance matrix of the errors is correctly specified.<br/>[2] The smallest eigenvalue is 1.94e-29. This might indicate that there are<br/>strong multicollinearity problems or that the design matrix is singular."
      ],
      "text/plain": [
       "<class 'statsmodels.iolib.summary.Summary'>\n",
       "\"\"\"\n",
       "                            OLS Regression Results                            \n",
       "==============================================================================\n",
       "Dep. Variable:                    cnt   R-squared:                       0.838\n",
       "Model:                            OLS   Adj. R-squared:                  0.829\n",
       "Method:                 Least Squares   F-statistic:                     102.3\n",
       "Date:                Wed, 17 Apr 2019   Prob (F-statistic):          9.88e-199\n",
       "Time:                        15:47:33   Log-Likelihood:                -4710.2\n",
       "No. Observations:                 584   AIC:                             9478.\n",
       "Df Residuals:                     555   BIC:                             9605.\n",
       "Df Model:                          28                                         \n",
       "Covariance Type:            nonrobust                                         \n",
       "================================================================================\n",
       "                   coef    std err          t      P>|t|      [0.025      0.975]\n",
       "--------------------------------------------------------------------------------\n",
       "temp          2711.6209   1498.646      1.809      0.071    -232.090    5655.332\n",
       "atemp         2048.2741   1553.545      1.318      0.188   -1003.273    5099.821\n",
       "hum          -1477.9600    357.652     -4.132      0.000   -2180.477    -775.443\n",
       "windspeed    -2348.7184    515.392     -4.557      0.000   -3361.075   -1336.362\n",
       "season_1      -479.3525    141.365     -3.391      0.001    -757.028    -201.677\n",
       "season_2       125.6893    145.334      0.865      0.388    -159.783     411.162\n",
       "season_3       386.9613    150.098      2.578      0.010      92.132     681.790\n",
       "season_4      1113.9502    146.239      7.617      0.000     826.701    1401.200\n",
       "yr_0          -415.7834     82.519     -5.039      0.000    -577.870    -253.697\n",
       "yr_1          1563.0318     80.648     19.381      0.000    1404.619    1721.444\n",
       "mnth_1        -338.4498    206.483     -1.639      0.102    -744.033      67.133\n",
       "mnth_2        -190.4273    193.860     -0.982      0.326    -571.216     190.361\n",
       "mnth_3         251.5407    151.781      1.657      0.098     -46.596     549.677\n",
       "mnth_4         402.7009    179.693      2.241      0.025      49.739     755.663\n",
       "mnth_5         721.3950    195.247      3.695      0.000     337.882    1104.908\n",
       "mnth_6         459.0443    187.342      2.450      0.015      91.058     827.031\n",
       "mnth_7        -285.0334    214.989     -1.326      0.185    -707.325     137.258\n",
       "mnth_8         112.7212    204.445      0.551      0.582    -288.858     514.301\n",
       "mnth_9         655.8473    161.088      4.071      0.000     339.430     972.264\n",
       "mnth_10        202.9996    177.103      1.146      0.252    -144.874     550.873\n",
       "mnth_11       -461.3188    191.960     -2.403      0.017    -838.375     -84.263\n",
       "mnth_12       -383.7713    166.515     -2.305      0.022    -710.847     -56.696\n",
       "holiday_0      818.6531    100.126      8.176      0.000     621.981    1015.325\n",
       "holiday_1      328.5953    114.912      2.860      0.004     102.880     554.311\n",
       "weekday_0     -128.9968     70.348     -1.834      0.067    -267.177       9.184\n",
       "weekday_1       60.8670     83.415      0.730      0.466    -102.980     224.714\n",
       "weekday_2      180.5720     84.509      2.137      0.033      14.576     346.568\n",
       "weekday_3      234.0469     88.346      2.649      0.008      60.514     407.580\n",
       "weekday_4      154.6466     85.473      1.809      0.071     -13.244     322.537\n",
       "weekday_5      290.6338     83.501      3.481      0.001     126.616     454.651\n",
       "weekday_6      355.4789     69.955      5.082      0.000     218.071     492.887\n",
       "workingday_0   555.0775     93.412      5.942      0.000     371.594     738.561\n",
       "workingday_1   592.1709     67.852      8.727      0.000     458.893     725.449\n",
       "weathersit_1  1284.9095     84.741     15.163      0.000    1118.458    1451.361\n",
       "weathersit_2   783.2974     85.382      9.174      0.000     615.586     951.009\n",
       "weathersit_3  -920.9586    184.875     -4.982      0.000   -1284.099    -557.818\n",
       "==============================================================================\n",
       "Omnibus:                      105.176   Durbin-Watson:                   2.054\n",
       "Prob(Omnibus):                  0.000   Jarque-Bera (JB):              300.227\n",
       "Skew:                          -0.876   Prob(JB):                     6.41e-66\n",
       "Kurtosis:                       6.045   Cond. No.                     1.09e+16\n",
       "==============================================================================\n",
       "\n",
       "Warnings:\n",
       "[1] Standard Errors assume that the covariance matrix of the errors is correctly specified.\n",
       "[2] The smallest eigenvalue is 1.94e-29. This might indicate that there are\n",
       "strong multicollinearity problems or that the design matrix is singular.\n",
       "\"\"\""
      ]
     },
     "execution_count": 229,
     "metadata": {},
     "output_type": "execute_result"
    }
   ],
   "source": [
    "# Print out the statistics\n",
    "model.summary()"
   ]
  },
  {
   "cell_type": "code",
   "execution_count": 230,
   "metadata": {},
   "outputs": [],
   "source": [
    "# make the predictions by the model\n",
    "predictions_LR = model.predict(test1.iloc[:,0:36]) \n"
   ]
  },
  {
   "cell_type": "code",
   "execution_count": 232,
   "metadata": {},
   "outputs": [
    {
     "data": {
      "text/plain": [
       "16.37937936466323"
      ]
     },
     "execution_count": 232,
     "metadata": {},
     "output_type": "execute_result"
    }
   ],
   "source": [
    "#Calculate MAPE\n",
    "MAPE(test1.iloc[:,36], predictions_LR)"
   ]
  },
  {
   "cell_type": "code",
   "execution_count": null,
   "metadata": {},
   "outputs": [],
   "source": [
    "#MAPE 16.37\n",
    "#Accuracy 83.63"
   ]
  }
 ],
 "metadata": {
  "kernelspec": {
   "display_name": "Python 3",
   "language": "python",
   "name": "python3"
  },
  "language_info": {
   "codemirror_mode": {
    "name": "ipython",
    "version": 3
   },
   "file_extension": ".py",
   "mimetype": "text/x-python",
   "name": "python",
   "nbconvert_exporter": "python",
   "pygments_lexer": "ipython3",
   "version": "3.7.3"
  }
 },
 "nbformat": 4,
 "nbformat_minor": 2
}
